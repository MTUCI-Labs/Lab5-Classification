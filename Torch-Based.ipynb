{
 "cells": [
  {
   "cell_type": "markdown",
   "metadata": {},
   "source": [
    "# Импорт необходимых библиотек\n",
    "Импортируйте необходимые библиотеки, включая PyTorch."
   ]
  },
  {
   "cell_type": "code",
   "execution_count": 9,
   "metadata": {},
   "outputs": [],
   "source": [
    "# Импорт необходимых библиотек\n",
    "import torch\n",
    "import torch.nn as nn\n",
    "import torch.optim as optim\n",
    "import torchvision\n",
    "import torchvision.transforms as transforms\n",
    "import torch.nn.functional as F\n",
    "import ssl"
   ]
  },
  {
   "cell_type": "markdown",
   "metadata": {},
   "source": [
    "# Загрузка и предварительная обработка датасета cifar10\n",
    "Загрузите и предварительно обработайте датасет cifar10, используя torchvision."
   ]
  },
  {
   "cell_type": "code",
   "execution_count": 10,
   "metadata": {},
   "outputs": [
    {
     "name": "stdout",
     "output_type": "stream",
     "text": [
      "Files already downloaded and verified\n",
      "Files already downloaded and verified\n"
     ]
    }
   ],
   "source": [
    "# Загрузка и предварительная обработка датасета cifar10\n",
    "\n",
    "# Преобразования, которые будут применены к изображениям\n",
    "transform = transforms.Compose(\n",
    "    [transforms.ToTensor(),\n",
    "     transforms.Normalize((0.5, 0.5, 0.5), (0.5, 0.5, 0.5))])\n",
    "\n",
    "# фикс для SSL\n",
    "ssl._create_default_https_context = ssl._create_unverified_context\n",
    "\n",
    "# Загрузка обучающего набора данных\n",
    "trainset = torchvision.datasets.CIFAR10(root='./data', train=True,\n",
    "                                        download=True, transform=transform)\n",
    "trainloader = torch.utils.data.DataLoader(trainset, batch_size=4,\n",
    "                                          shuffle=True, num_workers=2)\n",
    "\n",
    "# Загрузка тестового набора данных\n",
    "testset = torchvision.datasets.CIFAR10(root='./data', train=False,\n",
    "                                       download=True, transform=transform)\n",
    "testloader = torch.utils.data.DataLoader(testset, batch_size=4,\n",
    "                                         shuffle=False, num_workers=2)\n",
    "\n",
    "# Классы в датасете cifar10\n",
    "classes = ('plane', 'car', 'bird', 'cat',\n",
    "           'deer', 'dog', 'frog', 'horse', 'ship', 'truck')"
   ]
  },
  {
   "cell_type": "markdown",
   "metadata": {},
   "source": [
    "# Определение архитектуры сверточной нейронной сети\n",
    "Определите архитектуру сверточной нейронной сети, используя PyTorch."
   ]
  },
  {
   "cell_type": "code",
   "execution_count": 11,
   "metadata": {},
   "outputs": [],
   "source": [
    "# Определение архитектуры сверточной нейронной сети\n",
    "class Net(nn.Module):\n",
    "    def __init__(self):\n",
    "        super(Net, self).__init__()\n",
    "        # Сверточный слой (3 входных канала, 6 выходных каналов, ядро свертки 5x5)\n",
    "        self.conv1 = nn.Conv2d(3, 6, 5)\n",
    "        # Слой пулинга (2x2)\n",
    "        self.pool = nn.MaxPool2d(2, 2)\n",
    "        # Сверточный слой (6 входных каналов, 16 выходных каналов, ядро свертки 5x5)\n",
    "        self.conv2 = nn.Conv2d(6, 16, 5)\n",
    "        # Полносвязный слой (16 * 5 * 5 входных нейронов, 120 выходных нейронов)\n",
    "        self.fc1 = nn.Linear(16 * 5 * 5, 120)\n",
    "        # Полносвязный слой (120 входных нейронов, 84 выходных нейрона)\n",
    "        self.fc2 = nn.Linear(120, 84)\n",
    "        # Полносвязный слой (84 входных нейрона, 10 выходных нейронов)\n",
    "        self.fc3 = nn.Linear(84, 10)\n",
    "\n",
    "    def forward(self, x):\n",
    "        # Применяем свертку и пулинг\n",
    "        x = self.pool(F.relu(self.conv1(x)))\n",
    "        x = self.pool(F.relu(self.conv2(x)))\n",
    "        # Преобразуем тензор в вектор\n",
    "        x = x.view(-1, 16 * 5 * 5)\n",
    "        # Применяем полносвязные слои\n",
    "        x = F.relu(self.fc1(x))\n",
    "        x = F.relu(self.fc2(x))\n",
    "        x = self.fc3(x)\n",
    "        return x\n",
    "\n",
    "# Создаем экземпляр сети\n",
    "net = Net()"
   ]
  },
  {
   "cell_type": "markdown",
   "metadata": {},
   "source": [
    "# Определение функции потерь и оптимизатора\n",
    "Определите функцию потерь и оптимизатор, используя PyTorch."
   ]
  },
  {
   "cell_type": "code",
   "execution_count": 12,
   "metadata": {},
   "outputs": [],
   "source": [
    "# Определение функции потерь и оптимизатора\n",
    "# Используем кросс-энтропийную потерю\n",
    "criterion = nn.CrossEntropyLoss()\n",
    "\n",
    "# Используем стохастический градиентный спуск для оптимизации\n",
    "optimizer = optim.SGD(net.parameters(), lr=0.001, momentum=0.9)"
   ]
  },
  {
   "cell_type": "markdown",
   "metadata": {},
   "source": [
    "# Обучение модели\n",
    "Обучите модель, используя обучающий набор данных."
   ]
  },
  {
   "cell_type": "code",
   "execution_count": 13,
   "metadata": {},
   "outputs": [
    {
     "name": "stdout",
     "output_type": "stream",
     "text": [
      "[1,  2000] loss: 2.197\n",
      "[1,  4000] loss: 1.878\n",
      "[1,  6000] loss: 1.696\n",
      "[1,  8000] loss: 1.607\n",
      "[1, 10000] loss: 1.541\n",
      "[1, 12000] loss: 1.492\n",
      "[2,  2000] loss: 1.432\n",
      "[2,  4000] loss: 1.397\n",
      "[2,  6000] loss: 1.379\n",
      "[2,  8000] loss: 1.349\n",
      "[2, 10000] loss: 1.322\n",
      "[2, 12000] loss: 1.293\n",
      "Finished Training\n"
     ]
    }
   ],
   "source": [
    "# Обучение модели\n",
    "for epoch in range(2):  # Проходим по датасету несколько раз\n",
    "\n",
    "    running_loss = 0.0\n",
    "    for i, data in enumerate(trainloader, 0):\n",
    "        # Получаем входные данные; data - это список [inputs, labels]\n",
    "        inputs, labels = data\n",
    "\n",
    "        # Обнуляем градиенты параметров\n",
    "        optimizer.zero_grad()\n",
    "\n",
    "        # Вперед + назад + оптимизация\n",
    "        outputs = net(inputs)\n",
    "        loss = criterion(outputs, labels)\n",
    "        loss.backward()\n",
    "        optimizer.step()\n",
    "\n",
    "        # Печатаем статистику\n",
    "        running_loss += loss.item()\n",
    "        if i % 2000 == 1999:    # Печатаем каждые 2000 мини-пакетов\n",
    "            print('[%d, %5d] loss: %.3f' %\n",
    "                  (epoch + 1, i + 1, running_loss / 2000))\n",
    "            running_loss = 0.0\n",
    "\n",
    "print('Finished Training')"
   ]
  },
  {
   "cell_type": "markdown",
   "metadata": {},
   "source": [
    "# Тестирование модели\n",
    "Протестируйте модель на тестовом наборе данных и оцените ее производительность."
   ]
  },
  {
   "cell_type": "code",
   "execution_count": 14,
   "metadata": {},
   "outputs": [
    {
     "name": "stdout",
     "output_type": "stream",
     "text": [
      "Accuracy of the network on the 10000 test images: 53 %\n"
     ]
    }
   ],
   "source": [
    "# Импорт необходимых библиотек\n",
    "import torch\n",
    "\n",
    "# Переводим модель в режим оценки\n",
    "net.eval()\n",
    "\n",
    "# Инициализируем счетчики правильных и общего числа предсказаний\n",
    "correct = 0\n",
    "total = 0\n",
    "\n",
    "# Отключаем вычисление градиентов, так как они не нужны в процессе тестирования\n",
    "with torch.no_grad():\n",
    "    for data in testloader:\n",
    "        # Получаем изображения и метки\n",
    "        images, labels = data\n",
    "        # Прогоняем изображения через сеть и получаем предсказания\n",
    "        outputs = net(images)\n",
    "        # Получаем предсказанные классы\n",
    "        _, predicted = torch.max(outputs.data, 1)\n",
    "        # Обновляем счетчики\n",
    "        total += labels.size(0)\n",
    "        correct += (predicted == labels).sum().item()\n",
    "\n",
    "# Выводим процент правильных предсказаний\n",
    "print('Accuracy of the network on the 10000 test images: %d %%' % (\n",
    "    100 * correct / total))"
   ]
  }
 ],
 "metadata": {
  "kernelspec": {
   "display_name": "venv",
   "language": "python",
   "name": "python3"
  },
  "language_info": {
   "codemirror_mode": {
    "name": "ipython",
    "version": 3
   },
   "file_extension": ".py",
   "mimetype": "text/x-python",
   "name": "python",
   "nbconvert_exporter": "python",
   "pygments_lexer": "ipython3",
   "version": "3.12.0"
  },
  "orig_nbformat": 4
 },
 "nbformat": 4,
 "nbformat_minor": 2
}
